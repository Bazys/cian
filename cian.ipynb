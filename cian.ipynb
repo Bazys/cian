{
 "cells": [
  {
   "cell_type": "code",
   "execution_count": 10,
   "metadata": {},
   "outputs": [],
   "source": [
    "import requests\n",
    "import json\n",
    "\n",
    "URI = 'https://api.cian.ru/search-offers/v2/search-offers-desktop/'\n",
    "headers = {\n",
    "    'Accept': 'application/json',\n",
    "    'Content-Type': 'application/json',\n",
    "}\n",
    "data = {\n",
    "    \"jsonQuery\": {\n",
    "        \"region\":\n",
    "        {\"type\": \"terms\",\n",
    "         \"value\": [4704]\n",
    "         },\n",
    "        \"_type\": \"commercialsale\",\n",
    "#         'category': {'type': 'terms', 'value': ['commercialLandSale']},\n",
    "#         'category': {'type': 'terms', 'value': ['commercialLandSale', 'buildingSale', 'officeSale', 'freeAppointmentObjectSale', 'shoppingAreaSale']},\n",
    "        \"office_type\": {\n",
    "            \"type\": \"terms\",\n",
    "            \"value\": [1, 2, 3, 4, 5, 6, 7, 8, 9, 10, 11, 12]\n",
    "        },\n",
    "        \"engine_version\": {\n",
    "            \"type\": \"term\",\n",
    "            \"value\": 2\n",
    "        },\n",
    "        \"page\": {\n",
    "            \"type\": \"term\",\n",
    "            \"value\": 1\n",
    "        }\n",
    "    }\n",
    "}\n",
    "response = requests.post(URI, headers=headers, data=json.dumps(data))"
   ]
  },
  {
   "cell_type": "code",
   "execution_count": 11,
   "metadata": {},
   "outputs": [],
   "source": [
    "from data import data_from_dict\n",
    "result = data_from_dict(response.json())"
   ]
  },
  {
   "cell_type": "code",
   "execution_count": 26,
   "metadata": {},
   "outputs": [
    {
     "data": {
      "text/plain": [
       "43"
      ]
     },
     "execution_count": 26,
     "metadata": {},
     "output_type": "execute_result"
    }
   ],
   "source": [
    "pages = result.data.aggregated_count // len(result.data.offers_serialized) + 2\n",
    "pages"
   ]
  },
  {
   "cell_type": "code",
   "execution_count": 27,
   "metadata": {},
   "outputs": [
    {
     "data": {
      "text/plain": [
       "'id_1'"
      ]
     },
     "execution_count": 27,
     "metadata": {},
     "output_type": "execute_result"
    }
   ],
   "source": [
    "import pymongo\n",
    "from pymongo import MongoClient\n",
    "client = MongoClient('mongodb://localhost:27017/')\n",
    "db = client.cian\n",
    "collection = db.offers\n",
    "collection.create_index([('id', pymongo.ASCENDING)], unique=True)"
   ]
  },
  {
   "cell_type": "code",
   "execution_count": 28,
   "metadata": {},
   "outputs": [],
   "source": [
    "for offer in result.data.offers_serialized:\n",
    "    full_offer = offer.to_dict()\n",
    "    filtered_offer = {k: v for k, v in full_offer.items() if v is not None}\n",
    "    collection.find_one_and_replace(\n",
    "        {\"id\": offer.id}, filtered_offer, upsert=True)"
   ]
  },
  {
   "cell_type": "code",
   "execution_count": 13,
   "metadata": {},
   "outputs": [],
   "source": [
    "with open(\"output.txt\", \"a+\") as text_file:\n",
    "    print(response.text, file=text_file)"
   ]
  },
  {
   "cell_type": "code",
   "execution_count": null,
   "metadata": {},
   "outputs": [],
   "source": [
    "for x in range (2,pages):\n",
    "    data['page']['value'] = x\n",
    "    response = requests.post(\n",
    "        'https://www.cian.ru/cian-api/mobile-site/v2/search-offers/', headers=headers, data=json.dumps(data))\n",
    "    with open(\"output.txt\", \"a+\") as text_file:\n",
    "        print(response.text, file=text_file)\n",
    "    result = data_from_dict(response.json())\n",
    "    print(result.data.offers_serialized)"
   ]
  },
  {
   "cell_type": "code",
   "execution_count": null,
   "metadata": {},
   "outputs": [],
   "source": []
  }
 ],
 "metadata": {
  "kernelspec": {
   "display_name": "Python 3",
   "language": "python",
   "name": "python3"
  },
  "language_info": {
   "codemirror_mode": {
    "name": "ipython",
    "version": 3
   },
   "file_extension": ".py",
   "mimetype": "text/x-python",
   "name": "python",
   "nbconvert_exporter": "python",
   "pygments_lexer": "ipython3",
   "version": "3.7.2"
  }
 },
 "nbformat": 4,
 "nbformat_minor": 2
}
