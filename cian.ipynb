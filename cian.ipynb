{
 "cells": [
  {
   "cell_type": "code",
   "execution_count": 11,
   "metadata": {},
   "outputs": [],
   "source": [
    "from data import data_from_dict\n",
    "import requests\n",
    "import json"
   ]
  },
  {
   "cell_type": "code",
   "execution_count": 12,
   "metadata": {},
   "outputs": [],
   "source": [
    "def stripNone(data):\n",
    "  if isinstance(data, dict):\n",
    "      return {k:stripNone(v) for k, v in data.items() if k is not None and v is not None}\n",
    "  elif isinstance(data, list):\n",
    "      return [stripNone(item) for item in data if item is not None]\n",
    "  elif isinstance(data, tuple):\n",
    "      return tuple(stripNone(item) for item in data if item is not None)\n",
    "  elif isinstance(data, set):\n",
    "      return {stripNone(item) for item in data if item is not None}\n",
    "  else:\n",
    "      return data"
   ]
  },
  {
   "cell_type": "code",
   "execution_count": 31,
   "metadata": {},
   "outputs": [],
   "source": [
    "URI = 'https://api.cian.ru/search-offers/v2/search-offers-desktop/'\n",
    "headers = {\n",
    "    'Accept': 'application/json',\n",
    "    'Content-Type': 'application/json',\n",
    "}\n",
    "data = {\n",
    "    \"jsonQuery\": {\n",
    "        \"region\": {\n",
    "            \"type\": \"terms\",\n",
    "            \"value\": [4704, 4707]\n",
    "        },\n",
    "        \"publish_period\": {\n",
    "            \"type\": \"terms\",\n",
    "            \"value\": [60]\n",
    "        },\n",
    "        \"_type\": \"commercialsale\",\n",
    "#         'category': {\n",
    "#             'type': 'terms',\n",
    "#             'value': [\n",
    "#                 'commercialLandSale',\n",
    "#                 'garageSale',\n",
    "#                 'businessSale',\n",
    "#                 'buildingSale',\n",
    "#                 'officeSale',\n",
    "#                 'freeAppointmentObjectSale',\n",
    "#                 'shoppingAreaSale',\n",
    "#                 'industrySale'\n",
    "#             ]},\n",
    "        \"office_type\": {\n",
    "            \"type\": \"terms\",\n",
    "            \"value\": [1,  # Офис\n",
    "                      2,  # Торговая площадь\n",
    "                      4,  # ПСН\n",
    "                      5,  # Общепит\n",
    "                      10,  # Здание\n",
    "#                       11,  # Бытовые услуги\n",
    "#                       3,  # Склад\n",
    "#                       6,  # Гараж\n",
    "#                       7,  # Производство\n",
    "#                       8,  # Автосервис\n",
    "#                       9,  # Готовый бизнес\n",
    "#                       12  # Коммерческая земля\n",
    "                      ]\n",
    "        },\n",
    "        \"engine_version\": {\n",
    "            \"type\": \"term\",\n",
    "            \"value\": 2\n",
    "        },\n",
    "        \"page\": {\n",
    "            \"type\": \"term\",\n",
    "            \"value\": 1\n",
    "        }\n",
    "    }\n",
    "}\n",
    "response = requests.post(URI, headers=headers, data=json.dumps(data))"
   ]
  },
  {
   "cell_type": "code",
   "execution_count": 32,
   "metadata": {},
   "outputs": [
    {
     "data": {
      "text/plain": [
       "793"
      ]
     },
     "execution_count": 32,
     "metadata": {},
     "output_type": "execute_result"
    }
   ],
   "source": [
    "result = data_from_dict(response.json()).data\n",
    "# result = response.json()['data']\n",
    "result.aggregated_count"
   ]
  },
  {
   "cell_type": "code",
   "execution_count": 23,
   "metadata": {},
   "outputs": [
    {
     "data": {
      "text/plain": [
       "43"
      ]
     },
     "execution_count": 23,
     "metadata": {},
     "output_type": "execute_result"
    }
   ],
   "source": [
    "pages = result.aggregated_count // len(result.offers_serialized) + 2\n",
    "pages"
   ]
  },
  {
   "cell_type": "code",
   "execution_count": 24,
   "metadata": {},
   "outputs": [
    {
     "data": {
      "text/plain": [
       "'id_1'"
      ]
     },
     "execution_count": 24,
     "metadata": {},
     "output_type": "execute_result"
    }
   ],
   "source": [
    "import pymongo\n",
    "from pymongo import MongoClient\n",
    "client = MongoClient('mongodb://localhost:27017/')\n",
    "db = client.cian\n",
    "collection = db.offers\n",
    "collection.create_index([('id', pymongo.ASCENDING)], unique=True)"
   ]
  },
  {
   "cell_type": "code",
   "execution_count": 25,
   "metadata": {},
   "outputs": [],
   "source": [
    "for offer in result.offers_serialized:\n",
    "    offer_compact = stripNone(offer.to_dict())\n",
    "    collection.find_one_and_replace(\n",
    "        {\"id\": offer.id}, offer_compact, upsert=True)"
   ]
  },
  {
   "cell_type": "code",
   "execution_count": 13,
   "metadata": {},
   "outputs": [],
   "source": [
    "with open(\"output.txt\", \"a+\") as text_file:\n",
    "    print(response.text, file=text_file)"
   ]
  },
  {
   "cell_type": "code",
   "execution_count": null,
   "metadata": {},
   "outputs": [],
   "source": [
    "for x in range (2,pages):\n",
    "    data['page']['value'] = x\n",
    "    response = requests.post(\n",
    "        'https://www.cian.ru/cian-api/mobile-site/v2/search-offers/', headers=headers, data=json.dumps(data))\n",
    "    with open(\"output.txt\", \"a+\") as text_file:\n",
    "        print(response.text, file=text_file)\n",
    "    result = data_from_dict(response.json())\n",
    "    print(result.data.offers_serialized)"
   ]
  },
  {
   "cell_type": "code",
   "execution_count": null,
   "metadata": {},
   "outputs": [],
   "source": []
  }
 ],
 "metadata": {
  "kernelspec": {
   "display_name": "Python 3",
   "language": "python",
   "name": "python3"
  },
  "language_info": {
   "codemirror_mode": {
    "name": "ipython",
    "version": 3
   },
   "file_extension": ".py",
   "mimetype": "text/x-python",
   "name": "python",
   "nbconvert_exporter": "python",
   "pygments_lexer": "ipython3",
   "version": "3.7.2"
  }
 },
 "nbformat": 4,
 "nbformat_minor": 2
}
